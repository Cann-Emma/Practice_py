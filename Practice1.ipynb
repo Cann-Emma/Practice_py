{
  "nbformat": 4,
  "nbformat_minor": 0,
  "metadata": {
    "colab": {
      "provenance": [],
      "authorship_tag": "ABX9TyOU9WCgc9nSxVjuNAkw5ffW",
      "include_colab_link": true
    },
    "kernelspec": {
      "name": "python3",
      "display_name": "Python 3"
    },
    "language_info": {
      "name": "python"
    }
  },
  "cells": [
    {
      "cell_type": "markdown",
      "metadata": {
        "id": "view-in-github",
        "colab_type": "text"
      },
      "source": [
        "<a href=\"https://colab.research.google.com/github/Cann-Emma/Practice_py/blob/main/Practice1.ipynb\" target=\"_parent\"><img src=\"https://colab.research.google.com/assets/colab-badge.svg\" alt=\"Open In Colab\"/></a>"
      ]
    },
    {
      "cell_type": "markdown",
      "source": [
        "**DEFINING A FUNCTION**\n",
        "\n",
        "First chunk of code is a basic function\n",
        "Second chunk has a function that returns a value\n",
        "Third chunk has a function that takes argument\n",
        "Fourth chunk has a default value for argument (num)\n",
        "And the final chunk under this section takes multiple arguments\n"
      ],
      "metadata": {
        "id": "XF9kPqod92V-"
      }
    },
    {
      "cell_type": "markdown",
      "source": [],
      "metadata": {
        "id": "GMuVUGq2--cF"
      }
    },
    {
      "cell_type": "code",
      "execution_count": 5,
      "metadata": {
        "colab": {
          "base_uri": "https://localhost:8080/"
        },
        "id": "FsQQdVVN02Lv",
        "outputId": "bd2ea7ae-ba3e-466d-a576-c6dcec635f7c"
      },
      "outputs": [
        {
          "output_type": "stream",
          "name": "stdout",
          "text": [
            "<function function at 0x7a69a7bd7ac0>\n",
            "I work\n",
            "None\n"
          ]
        }
      ],
      "source": [
        "def function():\n",
        "  print(\"I work\")\n",
        "print(function)\n",
        "# Line 3 prints function as an object\n",
        "print(function())\n",
        "# The none following the output is because there is no return value"
      ]
    },
    {
      "cell_type": "code",
      "source": [
        "def cube(x):\n",
        "  return x*x*x\n",
        "print(cube(6))"
      ],
      "metadata": {
        "colab": {
          "base_uri": "https://localhost:8080/"
        },
        "id": "wSuHUvuL1eqf",
        "outputId": "d593866f-c405-4465-ab64-e70a269b207d"
      },
      "execution_count": 7,
      "outputs": [
        {
          "output_type": "stream",
          "name": "stdout",
          "text": [
            "216\n"
          ]
        }
      ]
    },
    {
      "cell_type": "code",
      "source": [
        "def function1(arg1, arg2):\n",
        "  print(arg1, \" \", arg2)\n",
        "print(function1(10, 30))"
      ],
      "metadata": {
        "colab": {
          "base_uri": "https://localhost:8080/"
        },
        "id": "BvvxhN6D18Z_",
        "outputId": "e638679a-20b0-4976-fdc4-50522d9b7274"
      },
      "execution_count": 19,
      "outputs": [
        {
          "output_type": "stream",
          "name": "stdout",
          "text": [
            "10   30\n",
            "None\n"
          ]
        }
      ]
    },
    {
      "cell_type": "code",
      "source": [
        "def power(num,x= 1):\n",
        "  result= 1;\n",
        "  for i in range(x):\n",
        "    result= result* num\n",
        "  return result\n",
        "print(power(4))\n",
        "print(power(4, 4))\n",
        "# following for, the next line of code must be indented"
      ],
      "metadata": {
        "colab": {
          "base_uri": "https://localhost:8080/"
        },
        "id": "qiq4nHDd4VIz",
        "outputId": "dd9586b6-bbbf-4a8c-c9d4-7571f139d85c"
      },
      "execution_count": 25,
      "outputs": [
        {
          "output_type": "stream",
          "name": "stdout",
          "text": [
            "4\n",
            "256\n"
          ]
        }
      ]
    },
    {
      "cell_type": "code",
      "source": [
        "def addit(*args):\n",
        "  result= 0\n",
        "  for x in args:\n",
        "    result= result + x\n",
        "  return result\n",
        "addit(50, 40, 30, 20, 10)"
      ],
      "metadata": {
        "colab": {
          "base_uri": "https://localhost:8080/"
        },
        "id": "uu9dO90K6NZt",
        "outputId": "ab98a8ce-fa5d-439e-faec-5b72e21908bb"
      },
      "execution_count": 42,
      "outputs": [
        {
          "output_type": "execute_result",
          "data": {
            "text/plain": [
              "150"
            ]
          },
          "metadata": {},
          "execution_count": 42
        }
      ]
    }
  ]
}